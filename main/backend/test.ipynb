{
 "cells": [
  {
   "cell_type": "code",
   "execution_count": 9,
   "metadata": {},
   "outputs": [],
   "source": [
    "from persona.persona import *\n",
    "from event_checker import EventChecker\n",
    "from unity_ipc import UN_Data"
   ]
  },
  {
   "cell_type": "code",
   "execution_count": 10,
   "metadata": {},
   "outputs": [],
   "source": [
    "_dir = 'C:/Users/gjaischool1/Desktop/git/DokiDoki_Agents/main/data/personas/'\n",
    "\n",
    "location = {\n",
    "    \"world\":\"dokidoki village\", \"sector\":\"Puyor's Store\", \"arena\" : \"supply store\"\n",
    "}\n",
    "evc = EventChecker()\n",
    "_ = ['Emerald Puyor', 'Franz Alez', 'HonalduSon']"
   ]
  },
  {
   "cell_type": "code",
   "execution_count": 11,
   "metadata": {},
   "outputs": [],
   "source": [
    "personas = {}\n",
    "for persona in _:\n",
    "    personas[persona] = Persona(persona, _dir + persona)\n",
    "    evc.add_event((persona, None, None, None))"
   ]
  },
  {
   "cell_type": "code",
   "execution_count": 12,
   "metadata": {},
   "outputs": [],
   "source": [
    "received = [\n",
    "    UN_Data('Emerald Puyor', location, [\"Franz Alez\"]),\n",
    "    UN_Data('HonalduSon', location, [\"Emerald Puyor\"]),\n",
    "    UN_Data('Franz Alez', location, [\"bed\"])\n",
    "]"
   ]
  },
  {
   "cell_type": "code",
   "execution_count": 13,
   "metadata": {},
   "outputs": [
    {
     "name": "stdout",
     "output_type": "stream",
     "text": [
      "c:\\Users\\gjaischool1\\Desktop\\git\\DokiDoki_Agents\\main\\backend\n"
     ]
    },
    {
     "ename": "FileNotFoundError",
     "evalue": "[Errno 2] No such file or directory: 'main/backend/persona/prompt_template/template/wake_up_hour.txt'",
     "output_type": "error",
     "traceback": [
      "\u001b[1;31m---------------------------------------------------------------------------\u001b[0m",
      "\u001b[1;31mFileNotFoundError\u001b[0m                         Traceback (most recent call last)",
      "\u001b[1;32mc:\\Users\\gjaischool1\\Desktop\\git\\DokiDoki_Agents\\main\\backend\\test.ipynb Cell 5\u001b[0m line \u001b[0;36m7\n\u001b[0;32m      <a href='vscode-notebook-cell:/c%3A/Users/gjaischool1/Desktop/git/DokiDoki_Agents/main/backend/test.ipynb#W4sZmlsZQ%3D%3D?line=4'>5</a>\u001b[0m perceived \u001b[39m=\u001b[39m persona\u001b[39m.\u001b[39mperceive(u_data\u001b[39m.\u001b[39mget_object(), evc)\n\u001b[0;32m      <a href='vscode-notebook-cell:/c%3A/Users/gjaischool1/Desktop/git/DokiDoki_Agents/main/backend/test.ipynb#W4sZmlsZQ%3D%3D?line=5'>6</a>\u001b[0m retrieved \u001b[39m=\u001b[39m persona\u001b[39m.\u001b[39mretrieve(perceived)\n\u001b[1;32m----> <a href='vscode-notebook-cell:/c%3A/Users/gjaischool1/Desktop/git/DokiDoki_Agents/main/backend/test.ipynb#W4sZmlsZQ%3D%3D?line=6'>7</a>\u001b[0m planning \u001b[39m=\u001b[39m persona\u001b[39m.\u001b[39;49mplan(u_data\u001b[39m.\u001b[39;49mget_location(), personas, \u001b[39m'\u001b[39;49m\u001b[39mFirst day\u001b[39;49m\u001b[39m'\u001b[39;49m, retrieved)\n",
      "File \u001b[1;32mc:\\Users\\gjaischool1\\Desktop\\git\\DokiDoki_Agents\\main\\backend\\persona\\persona.py:133\u001b[0m, in \u001b[0;36mPersona.plan\u001b[1;34m(self, location, personas, new_day, retrieved)\u001b[0m\n\u001b[0;32m    111\u001b[0m \u001b[39mdef\u001b[39;00m \u001b[39mplan\u001b[39m(\u001b[39mself\u001b[39m, location, personas, new_day, retrieved):\n\u001b[0;32m    112\u001b[0m   \u001b[39m\"\"\"\u001b[39;00m\n\u001b[0;32m    113\u001b[0m \u001b[39m  Main cognitive function of the chain. It takes the retrieved memory and \u001b[39;00m\n\u001b[0;32m    114\u001b[0m \u001b[39m  perception, as well as the maze and the first day state to conduct both \u001b[39;00m\n\u001b[1;32m   (...)\u001b[0m\n\u001b[0;32m    131\u001b[0m \u001b[39m    The target action address of the persona (persona.scratch.act_address).\u001b[39;00m\n\u001b[0;32m    132\u001b[0m \u001b[39m  \"\"\"\u001b[39;00m\n\u001b[1;32m--> 133\u001b[0m   \u001b[39mreturn\u001b[39;00m plan(\u001b[39mself\u001b[39;49m, location, personas, new_day, retrieved)\n",
      "File \u001b[1;32mc:\\Users\\gjaischool1\\Desktop\\git\\DokiDoki_Agents\\main\\backend\\persona\\cognitive_modules\\plan.py:1062\u001b[0m, in \u001b[0;36mplan\u001b[1;34m(persona, location, personas, new_day, retrieved)\u001b[0m\n\u001b[0;32m   1060\u001b[0m \u001b[39m# PART 1: Generate the hourly schedule. \u001b[39;00m\n\u001b[0;32m   1061\u001b[0m \u001b[39mif\u001b[39;00m new_day: \n\u001b[1;32m-> 1062\u001b[0m   _long_term_planning(persona, new_day)\n\u001b[0;32m   1063\u001b[0m \u001b[39m# PART 2: If the current action has expired, we want to create a new plan.\u001b[39;00m\n\u001b[0;32m   1064\u001b[0m \u001b[39mif\u001b[39;00m persona\u001b[39m.\u001b[39mscratch\u001b[39m.\u001b[39mact_check_finished(): \n",
      "File \u001b[1;32mc:\\Users\\gjaischool1\\Desktop\\git\\DokiDoki_Agents\\main\\backend\\persona\\cognitive_modules\\plan.py:525\u001b[0m, in \u001b[0;36m_long_term_planning\u001b[1;34m(persona, new_day)\u001b[0m\n\u001b[0;32m    519\u001b[0m \u001b[39m# We start by creating the wake up hour for the persona. \u001b[39;00m\n\u001b[0;32m    520\u001b[0m \u001b[39m'''\u001b[39;00m\n\u001b[0;32m    521\u001b[0m \u001b[39mtest\u001b[39;00m\n\u001b[0;32m    522\u001b[0m \u001b[39m# input : \"Name: Maria Lopez\\nAge: 21\\nInnate traits: energetic, enthusiastic, inquisitive\\nLearned traits: Maria Lopez is a student at Oak Hill College studying physics and a part time Twitch game streamer who loves to connect with people and explore new ideas.\\nCurrently: Maria Lopez is working on her physics degree and streaming games on Twitch to make some extra money. She visits Hobbs Cafe for studying and eating just about everyday.\\nLifestyle: Maria Lopez goes to bed around 2am, awakes up around 9am, eats dinner around 6pm. She likes to hang out at Hobbs Cafe if it's before 6pm.\\nDaily plan requirement: Maria Lopez spends at least 3 hours a day Twitch streaming or gaming.\\nCurrent Date: Monday February 13\\n\\n\\nIn general, Maria Lopez goes to bed around 2am, awakes up around 9am, eats dinner around 6pm. She likes to hang out at Hobbs Cafe if it's before 6pm.\\nMaria's wake up hour:\"\u001b[39;00m\n\u001b[0;32m    523\u001b[0m \u001b[39m# output : 9\u001b[39;00m\n\u001b[0;32m    524\u001b[0m \u001b[39m'''\u001b[39;00m\n\u001b[1;32m--> 525\u001b[0m wake_up_hour \u001b[39m=\u001b[39m generate_wake_up_hour(persona)\n\u001b[0;32m    526\u001b[0m \u001b[39m# wake_up_hour = 9\u001b[39;00m\n\u001b[0;32m    527\u001b[0m \u001b[39m# When it is a new day, we start by creating the daily_req of the persona.\u001b[39;00m\n\u001b[0;32m    528\u001b[0m \u001b[39m# Note that the daily_req is a list of strings that describe the persona's\u001b[39;00m\n\u001b[0;32m    529\u001b[0m \u001b[39m# day in broad strokes.\u001b[39;00m\n\u001b[0;32m    530\u001b[0m \u001b[39mif\u001b[39;00m new_day \u001b[39m==\u001b[39m \u001b[39m\"\u001b[39m\u001b[39mFirst day\u001b[39m\u001b[39m\"\u001b[39m: \n\u001b[0;32m    531\u001b[0m   \u001b[39m# Bootstrapping the daily plan for the start of then generation:\u001b[39;00m\n\u001b[0;32m    532\u001b[0m   \u001b[39m# if this is the start of generation (so there is no previous day's \u001b[39;00m\n\u001b[0;32m    533\u001b[0m   \u001b[39m# daily requirement, or if we are on a new day, we want to create a new\u001b[39;00m\n\u001b[0;32m    534\u001b[0m   \u001b[39m# set of daily requirements.\u001b[39;00m\n",
      "File \u001b[1;32mc:\\Users\\gjaischool1\\Desktop\\git\\DokiDoki_Agents\\main\\backend\\persona\\cognitive_modules\\plan.py:618\u001b[0m, in \u001b[0;36mgenerate_wake_up_hour\u001b[1;34m(persona)\u001b[0m\n\u001b[0;32m    604\u001b[0m \u001b[39m\"\"\"\u001b[39;00m\n\u001b[0;32m    605\u001b[0m \u001b[39mGenerates the time when the persona wakes up. This becomes an integral part\u001b[39;00m\n\u001b[0;32m    606\u001b[0m \u001b[39mof our process for generating the persona's daily plan.\u001b[39;00m\n\u001b[1;32m   (...)\u001b[0m\n\u001b[0;32m    615\u001b[0m \u001b[39m  8\u001b[39;00m\n\u001b[0;32m    616\u001b[0m \u001b[39m\"\"\"\u001b[39;00m\n\u001b[0;32m    617\u001b[0m \u001b[39m# if debug: print (\"GNS FUNCTION: <generate_wake_up_hour>\")\u001b[39;00m\n\u001b[1;32m--> 618\u001b[0m \u001b[39mreturn\u001b[39;00m \u001b[39mint\u001b[39m(run_gpt_prompt_wake_up_hour(persona)[\u001b[39m0\u001b[39m])\n",
      "File \u001b[1;32mc:\\Users\\gjaischool1\\Desktop\\git\\DokiDoki_Agents\\main\\backend\\persona\\prompt_template\\run_gpt_prompt.py:302\u001b[0m, in \u001b[0;36mrun_gpt_prompt_wake_up_hour\u001b[1;34m(persona, test_input, verbose)\u001b[0m\n\u001b[0;32m    300\u001b[0m prompt_template \u001b[39m=\u001b[39m \u001b[39m\"\u001b[39m\u001b[39mmain/backend/persona/prompt_template/template/\u001b[39m\u001b[39m\"\u001b[39m \u001b[39m+\u001b[39m GPT_template[\u001b[39m\"\u001b[39m\u001b[39mrun_gpt_prompt_wake_up_hour\u001b[39m\u001b[39m\"\u001b[39m]\n\u001b[0;32m    301\u001b[0m prompt_input \u001b[39m=\u001b[39m create_prompt_input(persona, test_input)\n\u001b[1;32m--> 302\u001b[0m prompt \u001b[39m=\u001b[39m generate_prompt(prompt_input, prompt_template)\n\u001b[0;32m    303\u001b[0m fail_safe \u001b[39m=\u001b[39m get_fail_safe()\n\u001b[0;32m    305\u001b[0m output \u001b[39m=\u001b[39m safe_generate_response(prompt, gpt_param, \u001b[39m5\u001b[39m, fail_safe,\n\u001b[0;32m    306\u001b[0m                                  __func_validate, __func_clean_up)\n",
      "File \u001b[1;32mc:\\Users\\gjaischool1\\Desktop\\git\\DokiDoki_Agents\\main\\backend\\persona\\prompt_template\\gpt_structure.py:46\u001b[0m, in \u001b[0;36mgenerate_prompt\u001b[1;34m(curr_input, prompt_lib_file)\u001b[0m\n\u001b[0;32m     44\u001b[0m \u001b[39mimport\u001b[39;00m \u001b[39mos\u001b[39;00m\n\u001b[0;32m     45\u001b[0m \u001b[39mprint\u001b[39m(os\u001b[39m.\u001b[39mgetcwd())\n\u001b[1;32m---> 46\u001b[0m f \u001b[39m=\u001b[39m \u001b[39mopen\u001b[39;49m(prompt_lib_file, \u001b[39m\"\u001b[39;49m\u001b[39mr\u001b[39;49m\u001b[39m\"\u001b[39;49m)\n\u001b[0;32m     47\u001b[0m prompt \u001b[39m=\u001b[39m f\u001b[39m.\u001b[39mread()\n\u001b[0;32m     48\u001b[0m f\u001b[39m.\u001b[39mclose()\n",
      "\u001b[1;31mFileNotFoundError\u001b[0m: [Errno 2] No such file or directory: 'main/backend/persona/prompt_template/template/wake_up_hour.txt'"
     ]
    }
   ],
   "source": [
    "for u_data in received:\n",
    "    persona = personas[u_data.get_persona()]\n",
    "    persona.scratch.curr_time = datetime.datetime.strptime(\"February 14, 2023, 00:00:00\", \n",
    "                                                \"%B %d, %Y, %H:%M:%S\")\n",
    "    perceived = persona.perceive(u_data.get_object(), evc)\n",
    "    retrieved = persona.retrieve(perceived)\n",
    "    planning = persona.plan(u_data.get_location(), personas, 'First day', retrieved)"
   ]
  },
  {
   "cell_type": "code",
   "execution_count": 1,
   "metadata": {},
   "outputs": [
    {
     "ename": "NameError",
     "evalue": "name 'persona' is not defined",
     "output_type": "error",
     "traceback": [
      "\u001b[1;31m---------------------------------------------------------------------------\u001b[0m",
      "\u001b[1;31mNameError\u001b[0m                                 Traceback (most recent call last)",
      "\u001b[1;32mc:\\Users\\gjaischool1\\Desktop\\git\\DokiDoki_Agents\\main\\backend\\test.ipynb Cell 6\u001b[0m line \u001b[0;36m1\n\u001b[1;32m----> <a href='vscode-notebook-cell:/c%3A/Users/gjaischool1/Desktop/git/DokiDoki_Agents/main/backend/test.ipynb#W5sZmlsZQ%3D%3D?line=0'>1</a>\u001b[0m persona\u001b[39m.\u001b[39msave(_dir \u001b[39m+\u001b[39m u_data\u001b[39m.\u001b[39mget_persona())\n",
      "\u001b[1;31mNameError\u001b[0m: name 'persona' is not defined"
     ]
    }
   ],
   "source": [
    "persona.save(_dir + u_data.get_persona())"
   ]
  },
  {
   "cell_type": "code",
   "execution_count": 2,
   "metadata": {},
   "outputs": [
    {
     "name": "stdout",
     "output_type": "stream",
     "text": [
      "{'user_name': '반갑습니다. 조영진', 'user_password': '당신의 비밀번호는 방가방가', 'user_text': '당신이 입력한 텍스트는 반갑다 자식들아', 'user_id': 133}\n"
     ]
    }
   ],
   "source": [
    "import requests\n",
    "\n",
    "url = 'http://192.168.80.2:8000/text/process/'\n",
    "\n",
    "params = {\n",
    "    'user_name' : '조영진',\n",
    "    'user_password' : '방가방가',\n",
    "    'user_text' : '반갑다 자식들아',\n",
    "    'user_id' : 123\n",
    "}\n",
    "\n",
    "res = requests.post(url, json=params)\n",
    "\n",
    "print(res.json())"
   ]
  },
  {
   "cell_type": "code",
   "execution_count": null,
   "metadata": {},
   "outputs": [],
   "source": []
  }
 ],
 "metadata": {
  "kernelspec": {
   "display_name": "base",
   "language": "python",
   "name": "python3"
  },
  "language_info": {
   "codemirror_mode": {
    "name": "ipython",
    "version": 3
   },
   "file_extension": ".py",
   "mimetype": "text/x-python",
   "name": "python",
   "nbconvert_exporter": "python",
   "pygments_lexer": "ipython3",
   "version": "3.10.9"
  }
 },
 "nbformat": 4,
 "nbformat_minor": 2
}
